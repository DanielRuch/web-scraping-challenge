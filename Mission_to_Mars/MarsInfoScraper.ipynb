{
 "cells": [
  {
   "cell_type": "code",
   "execution_count": null,
   "metadata": {},
   "outputs": [],
   "source": []
  },
  {
   "cell_type": "code",
   "execution_count": 58,
   "metadata": {},
   "outputs": [],
   "source": [
    "#Dependencies\n",
    "from splinter import Browser\n",
    "from bs4 import BeautifulSoup\n",
    "import pandas as pd\n",
    "from flask import Flask, jsonify, render_template, redirect, url_for\n",
    "from flask_pymongo import PyMongo"
   ]
  },
  {
   "cell_type": "code",
   "execution_count": 18,
   "metadata": {},
   "outputs": [],
   "source": [
    "#Functions\n",
    "def init_browser():\n",
    "    # @NOTE: Replace the path with your actual path to the chromedriver\n",
    "    executable_path = {\"executable_path\": \"C:\\Program Files (x86)\\ChromeDriver\\chromedriver.exe\"}\n",
    "    return Browser(\"chrome\", **executable_path, headless=True)\n",
    "\n",
    "\n",
    "def scrapeSite(url, clickBool = False, linkId = \"\" ):\n",
    "    browser = init_browser()\n",
    "\n",
    "    browser.visit(url)\n",
    "\n",
    "    #If a cicked is needed, click based on the id given\n",
    "    if clickBool == True:\n",
    "        browser.click_link_by_id(linkId)\n",
    "    \n",
    "    html = browser.html\n",
    "    soup = BeautifulSoup(html, \"html.parser\")\n",
    "\n",
    "    # return soup object\n",
    "    return soup"
   ]
  },
  {
   "cell_type": "code",
   "execution_count": 6,
   "metadata": {},
   "outputs": [
    {
     "name": "stdout",
     "output_type": "stream",
     "text": [
      "Nine Finalists Chosen in NASA's Mars 2020 Rover Naming Contest\n",
      "Nine finalists have been chosen in the essay contest for K-12 students across U.S. to name NASA's next Mars rover. Now you can help by voting for your favorite. \n"
     ]
    }
   ],
   "source": [
    "#1.1 - Scrape latest news article\n",
    "article = {}\n",
    "\n",
    "url = \"https://mars.nasa.gov/news/\"\n",
    "\n",
    "soup = scrapeSite(url)\n",
    "\n",
    "#Get title & text and save into dict\n",
    "title = soup.find(\"div\", class_=\"content_title\").find(\"a\", target=\"_self\").get_text()\n",
    "text = soup.find(\"div\", class_=\"article_teaser_body\").get_text()\n",
    "article[\"title\"] = title\n",
    "article[\"text\"] = text\n",
    "\n",
    "#Print to confirm were saved\n",
    "print(article[\"title\"])\n",
    "print(article[\"text\"])"
   ]
  },
  {
   "cell_type": "code",
   "execution_count": 9,
   "metadata": {},
   "outputs": [
    {
     "name": "stdout",
     "output_type": "stream",
     "text": [
      "https://www.jpl.nasa.gov/spaceimages/images/largesize/PIA19871_hires.jpg\n"
     ]
    }
   ],
   "source": [
    "#1.2 - Scrape JPL Mars Space Images - Featured Image\n",
    "url1 = \"https://www.jpl.nasa.gov/spaceimages/?search=&category=Mars\"\n",
    "\n",
    "#Scrape the site after clicking the full image buttton\n",
    "soup1 = scrapeSite(url1)\n",
    "link1 = soup1.find(\"a\", id=\"full_image\")\n",
    "\n",
    "#Build secondary url\n",
    "url2 = \"https://www.jpl.nasa.gov\"\n",
    "url2 = url2 + link1[\"data-link\"]\n",
    "\n",
    "soup2 = scrape(url2)\n",
    "\n",
    "#Get hires image link\n",
    "link2 = soup2.find(\"img\", class_=\"main_image\")\n",
    "\n",
    "#Build final url\n",
    "urlFinal = \"https://www.jpl.nasa.gov\"\n",
    "urlFinal = urlFinal + link2[\"src\"]\n",
    "\n",
    "featuredImageUrl = urlFinal\n",
    "\n",
    "#Print to confirm\n",
    "print(featuredImageUrl)"
   ]
  },
  {
   "cell_type": "code",
   "execution_count": 37,
   "metadata": {},
   "outputs": [
    {
     "name": "stdout",
     "output_type": "stream",
     "text": [
      "[]\n"
     ]
    }
   ],
   "source": [
    "#1.3 - Latest Mars Weather Tweet\n",
    "#Could not get results on any method of scraping. Message appears to be \n",
    "#Something went wrong, but don’t fret — it’s not your fault\"\n",
    "\n",
    "soup = scrapeSite(\"https://twitter.com/marswxreport?lang=en\")\n",
    "div1 = soup.findAll(\"div\", class_='js-tweet-text-container')\n",
    "print(div1)\n",
    "\n",
    "#div2 = div1.find(\"div\", class_=\"css-901oao r-jwli3a r-1qd0xha r-a023e6 r-16dba41 r-ad9z0x r-bcqeeo r-bnwqim r-qvutc0\")\n",
    "#span = div2.find(\"span\", class_= \"css-901oao css-16my406 r-1qd0xha r-ad9z0x r-bcqeeo r-qvutc0\")\n",
    "#text = span.get_text()"
   ]
  },
  {
   "cell_type": "code",
   "execution_count": 39,
   "metadata": {},
   "outputs": [
    {
     "name": "stdout",
     "output_type": "stream",
     "text": [
      "<table border=\"1\" class=\"dataframe\">\n",
      "  <thead>\n",
      "    <tr style=\"text-align: right;\">\n",
      "      <th></th>\n",
      "      <th>0</th>\n",
      "      <th>1</th>\n",
      "    </tr>\n",
      "  </thead>\n",
      "  <tbody>\n",
      "    <tr>\n",
      "      <th>0</th>\n",
      "      <td>Equatorial Diameter:</td>\n",
      "      <td>6,792 km</td>\n",
      "    </tr>\n",
      "    <tr>\n",
      "      <th>1</th>\n",
      "      <td>Polar Diameter:</td>\n",
      "      <td>6,752 km</td>\n",
      "    </tr>\n",
      "    <tr>\n",
      "      <th>2</th>\n",
      "      <td>Mass:</td>\n",
      "      <td>6.39 × 10^23 kg (0.11 Earths)</td>\n",
      "    </tr>\n",
      "    <tr>\n",
      "      <th>3</th>\n",
      "      <td>Moons:</td>\n",
      "      <td>2 (Phobos &amp; Deimos)</td>\n",
      "    </tr>\n",
      "    <tr>\n",
      "      <th>4</th>\n",
      "      <td>Orbit Distance:</td>\n",
      "      <td>227,943,824 km (1.38 AU)</td>\n",
      "    </tr>\n",
      "    <tr>\n",
      "      <th>5</th>\n",
      "      <td>Orbit Period:</td>\n",
      "      <td>687 days (1.9 years)</td>\n",
      "    </tr>\n",
      "    <tr>\n",
      "      <th>6</th>\n",
      "      <td>Surface Temperature:</td>\n",
      "      <td>-87 to -5 °C</td>\n",
      "    </tr>\n",
      "    <tr>\n",
      "      <th>7</th>\n",
      "      <td>First Record:</td>\n",
      "      <td>2nd millennium BC</td>\n",
      "    </tr>\n",
      "    <tr>\n",
      "      <th>8</th>\n",
      "      <td>Recorded By:</td>\n",
      "      <td>Egyptian astronomers</td>\n",
      "    </tr>\n",
      "  </tbody>\n",
      "</table>\n"
     ]
    }
   ],
   "source": [
    "#1.4 - Mars Facts\n",
    "soup = scrapeSite(\"https://space-facts.com/mars/\")\n",
    "\n",
    "text = soup.find_all(\"table\")\n",
    "df = pd.read_html(str(text))[0]\n",
    "tableHtml = df.to_html()\n",
    "print(tableHtml)"
   ]
  },
  {
   "cell_type": "code",
   "execution_count": 38,
   "metadata": {},
   "outputs": [],
   "source": [
    "#1.5 - Mars Hemispheres\n",
    "#Website failing to load both manually and via beautiful soup. Will revisit to try to get to work, maybe servers down?\n",
    "url = \"https://astrogeology.usgs.gov/search/results?q=hemisphere+enhanced&k1=target&v1=Mars\""
   ]
  }
 ],
 "metadata": {
  "kernelspec": {
   "display_name": "Python 3",
   "language": "python",
   "name": "python3"
  },
  "language_info": {
   "codemirror_mode": {
    "name": "ipython",
    "version": 3
   },
   "file_extension": ".py",
   "mimetype": "text/x-python",
   "name": "python",
   "nbconvert_exporter": "python",
   "pygments_lexer": "ipython3",
   "version": "3.7.4"
  }
 },
 "nbformat": 4,
 "nbformat_minor": 2
}
